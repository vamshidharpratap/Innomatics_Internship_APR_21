{
 "cells": [
  {
   "cell_type": "markdown",
   "metadata": {},
   "source": [
    "LIST COMPREHENSION"
   ]
  },
  {
   "cell_type": "code",
   "execution_count": null,
   "metadata": {},
   "outputs": [],
   "source": [
    "if __name__ == '__main__':\n",
    "    x = int(input())\n",
    "    y = int(input())\n",
    "    z = int(input())\n",
    "    n = int(input())\n",
    "\n",
    "    li=[[i,j,k]for i in range(x+1) for j in range(y+1) for k in range(z+1) if((i+j+k)!=n)]\n",
    "    print(li)\n"
   ]
  },
  {
   "cell_type": "markdown",
   "metadata": {},
   "source": [
    "Find the Runner-Up Score!"
   ]
  },
  {
   "cell_type": "code",
   "execution_count": null,
   "metadata": {},
   "outputs": [],
   "source": [
    "if __name__ == '__main__':\n",
    "    n = int(input())\n",
    "    arr = list(map(int, input().split()))\n",
    "    arr=list(set(arr))\n",
    "    arr=sorted(arr)\n",
    "    print(arr[-2])\n"
   ]
  },
  {
   "cell_type": "markdown",
   "metadata": {},
   "source": [
    "Nested Lists\n",
    "\n"
   ]
  },
  {
   "cell_type": "code",
   "execution_count": null,
   "metadata": {},
   "outputs": [],
   "source": [
    "if __name__ == '__main__':\n",
    "    li=[]\n",
    "    \n",
    "    for _ in range(int(input())):\n",
    "        name = input()\n",
    "        score = float(input())\n",
    "        li.append([name,score])\n",
    "            \n",
    "    second_highest = sorted(list(set([marks for name, marks in li])))[1]\n",
    "    print('\\n'.join([a for a,b in sorted(li) if b == second_highest]))\n"
   ]
  },
  {
   "cell_type": "markdown",
   "metadata": {},
   "source": [
    "Finding the percentage\n",
    "\n"
   ]
  },
  {
   "cell_type": "code",
   "execution_count": null,
   "metadata": {},
   "outputs": [],
   "source": [
    "if __name__ == '__main__':\n",
    "    import statistics\n",
    "    n = int(input())\n",
    "    student_marks = {}\n",
    "    for _ in range(n):\n",
    "        name, *line = input().split()\n",
    "        scores = list(map(float, line))\n",
    "        student_marks[name] = scores\n",
    "        \n",
    "    query_name = input()\n",
    "    score=statistics.mean(student_marks[query_name])\n",
    "    print('%.2f'%score)\n"
   ]
  },
  {
   "cell_type": "markdown",
   "metadata": {},
   "source": [
    "Lists\n",
    "\n"
   ]
  },
  {
   "cell_type": "code",
   "execution_count": null,
   "metadata": {},
   "outputs": [],
   "source": [
    "if __name__ == '__main__':\n",
    "    N = int(input())\n",
    "    List=[]\n",
    "    for i in range(N):\n",
    "        inputs = input().split() \n",
    "        command =inputs[0]\n",
    "        if len(inputs)==2: \n",
    "            element = int(inputs[1]) \n",
    "        elif len(inputs)==3:          \n",
    "            index = int(inputs[1]) \n",
    "            element = int(inputs[2])   \n",
    "        if command==\"insert\":\n",
    "            List.insert(index,element)\n",
    "        elif command==\"remove\":\n",
    "            List.remove(element)\n",
    "        elif command==\"append\":\n",
    "            List.append(element)\n",
    "        elif command==\"sort\":\n",
    "            List.sort()\n",
    "        elif command==\"pop\":\n",
    "            List.pop()\n",
    "        elif command==\"reverse\":\n",
    "            List.reverse()\n",
    "        elif command==\"print\":\n",
    "            print(List) \n"
   ]
  },
  {
   "cell_type": "markdown",
   "metadata": {},
   "source": [
    "Tuples"
   ]
  },
  {
   "cell_type": "code",
   "execution_count": null,
   "metadata": {},
   "outputs": [],
   "source": [
    "if __name__ == '__main__':\n",
    "    n = int(input())\n",
    "    integer_list = tuple(map(int, input().split()))\n",
    "    print(hash(integer_list))\n"
   ]
  },
  {
   "cell_type": "markdown",
   "metadata": {},
   "source": [
    "Introduction to Sets"
   ]
  },
  {
   "cell_type": "code",
   "execution_count": null,
   "metadata": {},
   "outputs": [],
   "source": [
    "import math\n",
    "def average(array):\n",
    "    # your code goes here\n",
    "    temp=sum(set(array))/len(set(array))\n",
    "    return round(temp,3)\n",
    "\n",
    "if __name__ == '__main__':\n",
    "    n = int(input())\n",
    "    arr = list(map(int, input().split()))\n",
    "    result = average(arr)\n",
    "    print(result)"
   ]
  },
  {
   "cell_type": "markdown",
   "metadata": {},
   "source": [
    "No Idea!"
   ]
  },
  {
   "cell_type": "code",
   "execution_count": null,
   "metadata": {},
   "outputs": [],
   "source": [
    "n,m=map(int,input().split())\n",
    "Array=list(map(int,input().split()))\n",
    "A=set(list(map(int,input().split())))\n",
    "B=set(list(map(int,input().split())))\n",
    "happiness=0\n",
    "for i in Array:\n",
    "    if(i in A):\n",
    "        happiness=happiness+1\n",
    "    if(i in B):\n",
    "        happiness=happiness-1\n",
    "print(happiness)            \n"
   ]
  },
  {
   "cell_type": "markdown",
   "metadata": {},
   "source": [
    "Symmetric Difference\n",
    "\n"
   ]
  },
  {
   "cell_type": "code",
   "execution_count": null,
   "metadata": {},
   "outputs": [],
   "source": [
    "# Enter your code here. Read input from STDIN. Print output to STDOUT\n",
    "M=int(input())\n",
    "a=set(map(int,input().split()))\n",
    "N=int(input())\n",
    "b=set(map(int,input().split()))\n",
    "temp1=a.union(b)\n",
    "temp2=a.intersection(b)\n",
    "temp=temp1.difference(temp2)\n",
    "for _ in sorted(temp):\n",
    "    print(_)\n"
   ]
  },
  {
   "cell_type": "code",
   "execution_count": null,
   "metadata": {},
   "outputs": [],
   "source": [
    "Set .add()"
   ]
  },
  {
   "cell_type": "code",
   "execution_count": null,
   "metadata": {},
   "outputs": [],
   "source": [
    "N = int(input())\n",
    "s = set()\n",
    "for i in range(N):\n",
    "    s.add(input())\n",
    "print(len(s))    \n",
    "    \n"
   ]
  },
  {
   "cell_type": "markdown",
   "metadata": {},
   "source": [
    "Set .discard(), .remove() & .pop()\n",
    "\n"
   ]
  },
  {
   "cell_type": "code",
   "execution_count": null,
   "metadata": {},
   "outputs": [],
   "source": [
    "n = int(input())\n",
    "s = set(map(int, input().split()))\n",
    "N = int(input())\n",
    "\n",
    "for i in range(N):\n",
    "    \n",
    "    operation =input().split()\n",
    "    if operation [0]==\"pop\" :\n",
    "        s.pop()\n",
    "    elif operation [0]==\"remove\" :\n",
    "        s.remove(int(operation [1]))\n",
    "    elif operation [0]==\"discard\" :\n",
    "        s.discard(int(operation [1]))\n",
    "        \n",
    "print(sum(s))        \n"
   ]
  },
  {
   "cell_type": "markdown",
   "metadata": {},
   "source": [
    "Set .union() Operation\n",
    "\n"
   ]
  },
  {
   "cell_type": "code",
   "execution_count": null,
   "metadata": {},
   "outputs": [],
   "source": [
    "# Enter your code here. Read input from STDIN. Print output to STDOUT\n",
    "n = int(input())\n",
    "n_rollnum = set(map(int,input().split()))\n",
    "b = int(input())\n",
    "b_rollnum = set(map(int,input().split()))\n",
    "\n",
    "print(len(n_rollnum.union(b_rollnum)))\n"
   ]
  },
  {
   "cell_type": "markdown",
   "metadata": {},
   "source": [
    "Set .intersection() Operation"
   ]
  },
  {
   "cell_type": "code",
   "execution_count": null,
   "metadata": {},
   "outputs": [],
   "source": [
    "n = int(input())\n",
    "n_rollnum = set(map(int,input().split()))\n",
    "b = int(input())\n",
    "b_rollnum = set(map(int,input().split()))\n",
    "\n",
    "print(len(n_rollnum.intersection(b_rollnum)))\n"
   ]
  },
  {
   "cell_type": "markdown",
   "metadata": {},
   "source": [
    "Set .difference()"
   ]
  },
  {
   "cell_type": "code",
   "execution_count": null,
   "metadata": {},
   "outputs": [],
   "source": [
    "n = int(input())\n",
    "n_Englsh = set(map(int,input().split()))\n",
    "b = int(input())\n",
    "b_French = set(map(int,input().split()))\n",
    "\n",
    "print(len(n_Englsh.difference(b_French)))\n"
   ]
  },
  {
   "cell_type": "markdown",
   "metadata": {},
   "source": [
    "Set .symmetric_difference() Operation\n",
    "\n"
   ]
  },
  {
   "cell_type": "code",
   "execution_count": null,
   "metadata": {},
   "outputs": [],
   "source": [
    "n = int(input())\n",
    "n_Englsh = set(map(int,input().split()))\n",
    "b = int(input())\n",
    "b_French = set(map(int,input().split()))\n",
    "\n",
    "print(len(n_Englsh.symmetric_difference(b_French)))\n"
   ]
  },
  {
   "cell_type": "markdown",
   "metadata": {},
   "source": [
    "Set Mutations\n",
    "\n"
   ]
  },
  {
   "cell_type": "code",
   "execution_count": null,
   "metadata": {},
   "outputs": [],
   "source": [
    "n = int(input())\n",
    "A = set(map(int,input().split()))\n",
    "N = int(input())\n",
    "\n",
    "for i in range(N):\n",
    "\n",
    "    op, _ = input().split()\n",
    "    temp = set(map(int, input().split()))\n",
    "    if(op == \"intersection_update\"):\n",
    "        A.intersection_update(temp)\n",
    "    elif(op == \"update\"):\n",
    "        A.update(temp)\n",
    "    elif(op == \"symmetric_difference_update\"):\n",
    "        A.symmetric_difference_update(temp)\n",
    "    elif(op == \"difference_update\"):\n",
    "        A.difference_update(temp)\n",
    "    \n",
    "        \n",
    "print(sum(A))        \n",
    "        \n"
   ]
  },
  {
   "cell_type": "markdown",
   "metadata": {},
   "source": [
    "The Captain's Room\n",
    "\n"
   ]
  },
  {
   "cell_type": "code",
   "execution_count": null,
   "metadata": {},
   "outputs": [],
   "source": [
    "from collections import Counter\n",
    "k = int(input())\n",
    "A = list(map(int,input().split()))\n",
    "\n",
    "result = [key for key, count in Counter(A).items() if count == 1]\n",
    "print(result[0])\n",
    "\n"
   ]
  },
  {
   "cell_type": "markdown",
   "metadata": {},
   "source": [
    "Check Subset"
   ]
  },
  {
   "cell_type": "code",
   "execution_count": null,
   "metadata": {},
   "outputs": [],
   "source": [
    "n = int(input())\n",
    "for i in range(n):\n",
    "    len_a = int(input())\n",
    "        \n",
    "    A = set(map(int,input().split()))\n",
    "    len_b = int(input())\n",
    "    B = set(map(int,input().split()))\n",
    "    \n",
    "    print(A.issubset(B))\n",
    "    \n",
    "    \n"
   ]
  },
  {
   "cell_type": "markdown",
   "metadata": {},
   "source": [
    "Check Strict Superset"
   ]
  },
  {
   "cell_type": "code",
   "execution_count": null,
   "metadata": {},
   "outputs": [],
   "source": [
    "A = set(map(int,input().split()))\n",
    "n = int(input())\n",
    "v = []\n",
    "for i in range(n):\n",
    "    temp = set(map(int,input().split()))\n",
    "    v.append(A.issuperset(temp))\n",
    "print(all(v))    \n"
   ]
  },
  {
   "cell_type": "code",
   "execution_count": null,
   "metadata": {},
   "outputs": [],
   "source": []
  },
  {
   "cell_type": "code",
   "execution_count": null,
   "metadata": {},
   "outputs": [],
   "source": []
  },
  {
   "cell_type": "code",
   "execution_count": null,
   "metadata": {},
   "outputs": [],
   "source": []
  },
  {
   "cell_type": "code",
   "execution_count": null,
   "metadata": {},
   "outputs": [],
   "source": []
  },
  {
   "cell_type": "code",
   "execution_count": null,
   "metadata": {},
   "outputs": [],
   "source": []
  },
  {
   "cell_type": "code",
   "execution_count": null,
   "metadata": {},
   "outputs": [],
   "source": []
  },
  {
   "cell_type": "code",
   "execution_count": null,
   "metadata": {},
   "outputs": [],
   "source": []
  },
  {
   "cell_type": "code",
   "execution_count": null,
   "metadata": {},
   "outputs": [],
   "source": []
  },
  {
   "cell_type": "code",
   "execution_count": null,
   "metadata": {},
   "outputs": [],
   "source": []
  },
  {
   "cell_type": "code",
   "execution_count": null,
   "metadata": {},
   "outputs": [],
   "source": []
  },
  {
   "cell_type": "code",
   "execution_count": null,
   "metadata": {},
   "outputs": [],
   "source": []
  },
  {
   "cell_type": "code",
   "execution_count": null,
   "metadata": {},
   "outputs": [],
   "source": []
  },
  {
   "cell_type": "code",
   "execution_count": null,
   "metadata": {},
   "outputs": [],
   "source": []
  },
  {
   "cell_type": "code",
   "execution_count": null,
   "metadata": {},
   "outputs": [],
   "source": []
  },
  {
   "cell_type": "code",
   "execution_count": null,
   "metadata": {},
   "outputs": [],
   "source": []
  }
 ],
 "metadata": {
  "kernelspec": {
   "display_name": "Python 3",
   "language": "python",
   "name": "python3"
  },
  "language_info": {
   "codemirror_mode": {
    "name": "ipython",
    "version": 3
   },
   "file_extension": ".py",
   "mimetype": "text/x-python",
   "name": "python",
   "nbconvert_exporter": "python",
   "pygments_lexer": "ipython3",
   "version": "3.7.6"
  }
 },
 "nbformat": 4,
 "nbformat_minor": 4
}
