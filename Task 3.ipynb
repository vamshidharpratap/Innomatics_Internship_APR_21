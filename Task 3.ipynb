{
 "cells": [
  {
   "cell_type": "code",
   "execution_count": null,
   "metadata": {},
   "outputs": [],
   "source": [
    "#Polar Coordinates\n",
    "import cmath\n",
    "polar_cord=cmath.polar(complex(input()))\n",
    "print(polar_cord[0])\n",
    "print(polar_cord[1])\n"
   ]
  },
  {
   "cell_type": "code",
   "execution_count": null,
   "metadata": {},
   "outputs": [],
   "source": [
    "#Find Angle MBC\n",
    "# Enter your code here. Read input from STDIN. Print output to STDOUT\n",
    "AB=int(input())\n",
    "BC=int(input())\n",
    "import math\n",
    "temp=math.sqrt((AB**2)+(BC**2))\n",
    "temp=temp/2\n",
    "print(int(round(math.degrees(math.atan2(AB,BC)))),end='')\n",
    "print(u\"\\N{DEGREE SIGN}\")\n",
    "\n",
    "\n"
   ]
  },
  {
   "cell_type": "code",
   "execution_count": null,
   "metadata": {},
   "outputs": [],
   "source": [
    "#Triangle Quest 2\n",
    "#Demlo numbers\n",
    "for i in range(1,int(input())+1): #More than 2 lines will result in 0 score. Do not leave a blank line also\n",
    "    print(((10**i)//9)**2)\n"
   ]
  },
  {
   "cell_type": "code",
   "execution_count": null,
   "metadata": {},
   "outputs": [],
   "source": [
    "#Mod Divmod\n",
    "# Enter your code here. Read input from STDIN. Print output to STDOUT\n",
    "a=int(input())\n",
    "b=int(input())\n",
    "print(a//b)\n",
    "print(a%b)\n",
    "print(divmod(a,b))\n"
   ]
  },
  {
   "cell_type": "code",
   "execution_count": null,
   "metadata": {},
   "outputs": [],
   "source": [
    "#Power - Mod Power\n",
    "# Enter your code here. Read input from STDIN. Print output to STDOUT\n",
    "import math\n",
    "a=int(input())\n",
    "b=int(input())\n",
    "m=int(input())\n",
    "print(pow(a,b))\n",
    "print(pow(a,b,m))\n"
   ]
  },
  {
   "cell_type": "code",
   "execution_count": null,
   "metadata": {},
   "outputs": [],
   "source": [
    "#Integers Come In All Sizes\n",
    "# Enter your code here. Read input from STDIN. Print output to STDOUT\n",
    "a=int(input())\n",
    "b=int(input())\n",
    "c=int(input())\n",
    "d=int(input())\n",
    "#import math\n",
    "#print(str(math.pow(a,b)+math.pow(c,d)))\n",
    "print(int(a**b)+int(c**d))\n"
   ]
  },
  {
   "cell_type": "code",
   "execution_count": null,
   "metadata": {},
   "outputs": [],
   "source": [
    "#Triangle Quest\n",
    "for i in range(1,int(input())): #More than 2 lines will result in 0 score. Do blank line \n",
    "    print((10**(i)//9)*i)\n"
   ]
  },
  {
   "cell_type": "code",
   "execution_count": null,
   "metadata": {},
   "outputs": [],
   "source": []
  },
  {
   "cell_type": "code",
   "execution_count": null,
   "metadata": {},
   "outputs": [],
   "source": []
  },
  {
   "cell_type": "code",
   "execution_count": null,
   "metadata": {},
   "outputs": [],
   "source": []
  },
  {
   "cell_type": "code",
   "execution_count": null,
   "metadata": {},
   "outputs": [],
   "source": []
  }
 ],
 "metadata": {
  "kernelspec": {
   "display_name": "Python 3",
   "language": "python",
   "name": "python3"
  },
  "language_info": {
   "codemirror_mode": {
    "name": "ipython",
    "version": 3
   },
   "file_extension": ".py",
   "mimetype": "text/x-python",
   "name": "python",
   "nbconvert_exporter": "python",
   "pygments_lexer": "ipython3",
   "version": "3.7.6"
  }
 },
 "nbformat": 4,
 "nbformat_minor": 4
}
